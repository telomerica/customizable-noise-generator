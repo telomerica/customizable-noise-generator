{
 "cells": [
  {
   "cell_type": "code",
   "execution_count": 1,
   "metadata": {},
   "outputs": [],
   "source": [
    "from array_builder import *\n",
    "from img_map import *\n",
    "import numpy as np"
   ]
  },
  {
   "cell_type": "code",
   "execution_count": null,
   "metadata": {},
   "outputs": [],
   "source": [
    "for x in range(30):\n",
    "    mappe = array_build((750,750),[\n",
    "\n",
    "        [\"perlin\",(random.choice([3,5,10]),random.randint(0,1000),random.random(),random.choice([-0.1,-0.2,-0.3]))],\n",
    "        [\"random\",(random.choice([0.1,0.12,0.14]),random.random())],\n",
    "        ],\n",
    "        float = True)\n",
    "            \n",
    "    save_map(mappe,color_dict = None,float=True)\n",
    "    print(\"step\",x) "
   ]
  },
  {
   "cell_type": "markdown",
   "metadata": {},
   "source": [
    "for x in range(30):\n",
    "        mappe = array_build((750,750),[\n",
    "\n",
    "        [\"perlin\",(random.choice([3,5,10]),random.randint(0,1000),1,random.choice([-0.1,-0.2,-0.3]))],\n",
    "        [\"perlin\",(random.choice([5,10,15]),random.randint(0,1000),1,random.choice([-0.4,-0.2,-0.3]))],\n",
    "        \n",
    "        [\"perlin\",(random.choice([3,5,10]),random.randint(0,1000),2,random.choice([-0.1,-0.2,-0.3]))],\n",
    "        [\"perlin\",(random.choice([5,10,15]),random.randint(0,1000),2,random.choice([-0.4,-0.2,-0.3]))],\n",
    "        \n",
    "        [\"perlin\",(random.choice([3,5,10]),random.randint(0,1000),3,random.choice([-0.1,-0.2,-0.3]))],\n",
    "        [\"perlin\",(random.choice([5,10,15]),random.randint(0,1000),3,random.choice([-0.4,-0.2,-0.3]))],\n",
    "\n",
    "        [\"random\",(random.choice([0.1,0.12,0.14]),1)],\n",
    "        [\"random\",(random.choice([0.1,0.12,0.14]),2)],\n",
    "        [\"random\",(random.choice([0.1,0.12,0.14]),3)],\n",
    "\n",
    "        ])\n",
    "\n",
    "        save_map(mappe)\n",
    "        print(x)"
   ]
  },
  {
   "cell_type": "markdown",
   "metadata": {},
   "source": [
    "for x in range(30):\n",
    "    mappe = array_build((750,750),[\n",
    "\n",
    "        [\"perlin\",(random.choice([3,5,10]),random.randint(0,1000),1,random.choice([-0.1,-0.2,-0.3]))],\n",
    "        [\"perlin\",(random.choice([5,10,15]),random.randint(0,1000),1,random.choice([-0.4,-0.2,-0.3]))],\n",
    "        [\"perlin\",(random.choice([30,60,90]),random.randint(0,1000),1,random.choice([-0.3,-0.33,-0.37]))],\n",
    "\n",
    "        [\"random\",(random.choice([0.1,0.12,0.14]),1)],\n",
    "        ])\n",
    "\n",
    "    save_map(mappe,color_dict = {0:(0,0,0),1:(255,255,255)})\n",
    "    print(\"step\",x)\n",
    "\n"
   ]
  },
  {
   "cell_type": "markdown",
   "metadata": {},
   "source": [
    "for x in range(30):\n",
    "    mappe = array_build((750,750),[\n",
    "\n",
    "        [\"perlin\",(random.choice([3,5,10]),random.randint(0,1000),1,random.choice([-0.1,-0.2,-0.3]))],\n",
    "        [\"perlin\",(random.choice([5,10,15]),random.randint(0,1000),1,random.choice([-0.4,-0.2,-0.3]))],\n",
    "        [\"perlin\",(random.choice([30,60,90]),random.randint(0,1000),1,random.choice([-0.3,-0.33,-0.37]))],\n",
    "\n",
    "        [\"random\",(random.choice([0.1,0.12,0.14]),1)],\n",
    "        ],\n",
    "        float = True)\n",
    "\n",
    "    save_map(mappe,color_dict = {0:(0,0,0),1:(255,255,255)})\n",
    "    print(\"step\",x)\n",
    "\n"
   ]
  },
  {
   "cell_type": "markdown",
   "metadata": {},
   "source": [
    "ls = (os.listdir(\"saved_arrays\"))\n",
    "mappe = np.load(f'{os.getcwd()}/saved_arrays/{random.choice(ls)}')\n",
    "draw_map(mappe)"
   ]
  },
  {
   "cell_type": "code",
   "execution_count": null,
   "metadata": {},
   "outputs": [
    {
     "name": "stdout",
     "output_type": "stream",
     "text": [
      "avg 1.114656\n",
      "std 0.8868855628907263\n"
     ]
    }
   ],
   "source": [
    "print(\"avg\",np.average(mappe))\n",
    "print(\"std\",np.std(mappe))"
   ]
  },
  {
   "cell_type": "code",
   "execution_count": null,
   "metadata": {},
   "outputs": [],
   "source": []
  }
 ],
 "metadata": {
  "kernelspec": {
   "display_name": "Python 3",
   "language": "python",
   "name": "python3"
  },
  "language_info": {
   "codemirror_mode": {
    "name": "ipython",
    "version": 3
   },
   "file_extension": ".py",
   "mimetype": "text/x-python",
   "name": "python",
   "nbconvert_exporter": "python",
   "pygments_lexer": "ipython3",
   "version": "3.10.6 (main, Nov 14 2022, 16:10:14) [GCC 11.3.0]"
  },
  "orig_nbformat": 4,
  "vscode": {
   "interpreter": {
    "hash": "916dbcbb3f70747c44a77c7bcd40155683ae19c65e1c03b4aa3499c5328201f1"
   }
  }
 },
 "nbformat": 4,
 "nbformat_minor": 2
}
